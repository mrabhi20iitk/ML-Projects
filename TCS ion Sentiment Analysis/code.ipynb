{
 "cells": [
  {
   "cell_type": "markdown",
   "id": "06097ec7",
   "metadata": {},
   "source": [
    "<h1> Sentiment Analysis of  Kaggle-IMDB movie reviews dataset using Deep Learning</h1>"
   ]
  },
  {
   "cell_type": "markdown",
   "id": "9200d9e6",
   "metadata": {},
   "source": [
    "<h2>Importing Modules "
   ]
  },
  {
   "cell_type": "code",
   "execution_count": 1,
   "id": "706dc275",
   "metadata": {},
   "outputs": [],
   "source": [
    "import re\n",
    "import pandas as pd\n",
    "import numpy as np\n",
    "import tensorflow as tf"
   ]
  },
  {
   "cell_type": "code",
   "execution_count": 2,
   "id": "bee659ef",
   "metadata": {},
   "outputs": [
    {
     "data": {
      "text/plain": [
       "'2.5.0'"
      ]
     },
     "execution_count": 2,
     "metadata": {},
     "output_type": "execute_result"
    }
   ],
   "source": [
    "tf.__version__"
   ]
  },
  {
   "attachments": {},
   "cell_type": "markdown",
   "id": "edb75811",
   "metadata": {},
   "source": [
    "<h4>Dataset Link :https://www.kaggle.com/lakshmi25npathi/imdb-dataset-of-50k-movie-reviews/code</h4>"
   ]
  },
  {
   "cell_type": "code",
   "execution_count": 3,
   "id": "59a9a88c",
   "metadata": {},
   "outputs": [],
   "source": [
    "df = pd.read_csv('IMDB Dataset.csv')"
   ]
  },
  {
   "cell_type": "code",
   "execution_count": 4,
   "id": "f648e87b",
   "metadata": {},
   "outputs": [
    {
     "data": {
      "text/html": [
       "<div>\n",
       "<style scoped>\n",
       "    .dataframe tbody tr th:only-of-type {\n",
       "        vertical-align: middle;\n",
       "    }\n",
       "\n",
       "    .dataframe tbody tr th {\n",
       "        vertical-align: top;\n",
       "    }\n",
       "\n",
       "    .dataframe thead th {\n",
       "        text-align: right;\n",
       "    }\n",
       "</style>\n",
       "<table border=\"1\" class=\"dataframe\">\n",
       "  <thead>\n",
       "    <tr style=\"text-align: right;\">\n",
       "      <th></th>\n",
       "      <th>review</th>\n",
       "      <th>sentiment</th>\n",
       "    </tr>\n",
       "  </thead>\n",
       "  <tbody>\n",
       "    <tr>\n",
       "      <th>0</th>\n",
       "      <td>One of the other reviewers has mentioned that ...</td>\n",
       "      <td>positive</td>\n",
       "    </tr>\n",
       "    <tr>\n",
       "      <th>1</th>\n",
       "      <td>A wonderful little production. &lt;br /&gt;&lt;br /&gt;The...</td>\n",
       "      <td>positive</td>\n",
       "    </tr>\n",
       "    <tr>\n",
       "      <th>2</th>\n",
       "      <td>I thought this was a wonderful way to spend ti...</td>\n",
       "      <td>positive</td>\n",
       "    </tr>\n",
       "    <tr>\n",
       "      <th>3</th>\n",
       "      <td>Basically there's a family where a little boy ...</td>\n",
       "      <td>negative</td>\n",
       "    </tr>\n",
       "    <tr>\n",
       "      <th>4</th>\n",
       "      <td>Petter Mattei's \"Love in the Time of Money\" is...</td>\n",
       "      <td>positive</td>\n",
       "    </tr>\n",
       "  </tbody>\n",
       "</table>\n",
       "</div>"
      ],
      "text/plain": [
       "                                              review sentiment\n",
       "0  One of the other reviewers has mentioned that ...  positive\n",
       "1  A wonderful little production. <br /><br />The...  positive\n",
       "2  I thought this was a wonderful way to spend ti...  positive\n",
       "3  Basically there's a family where a little boy ...  negative\n",
       "4  Petter Mattei's \"Love in the Time of Money\" is...  positive"
      ]
     },
     "execution_count": 4,
     "metadata": {},
     "output_type": "execute_result"
    }
   ],
   "source": [
    "df.head()"
   ]
  },
  {
   "cell_type": "code",
   "execution_count": 5,
   "id": "09230c13",
   "metadata": {},
   "outputs": [
    {
     "data": {
      "text/plain": [
       "(50000, 2)"
      ]
     },
     "execution_count": 5,
     "metadata": {},
     "output_type": "execute_result"
    }
   ],
   "source": [
    "df.shape   #DataFrame Shape"
   ]
  },
  {
   "cell_type": "code",
   "execution_count": 6,
   "id": "ab921dc9",
   "metadata": {},
   "outputs": [
    {
     "data": {
      "text/plain": [
       "False"
      ]
     },
     "execution_count": 6,
     "metadata": {},
     "output_type": "execute_result"
    }
   ],
   "source": [
    "df.isnull().values.any()    #To check for any null values,if present"
   ]
  },
  {
   "cell_type": "code",
   "execution_count": 7,
   "id": "22b68e30",
   "metadata": {},
   "outputs": [],
   "source": [
    "#Labelling Dependent Feature\n",
    "df['code'] = df['sentiment'].copy()\n",
    "for i in range(len(df)):\n",
    "    if df['sentiment'][i] == 'positive':\n",
    "        df['code'][i] = 1\n",
    "    else:\n",
    "        df['code'][i] = 0\n",
    "        "
   ]
  },
  {
   "cell_type": "markdown",
   "id": "459193ef",
   "metadata": {},
   "source": [
    "<h2> Code   :   Sentiment </h3>\n",
    "<h3> 1      :   Positive  </h3>\n",
    "<h3> 0      :  Negative  </h3>"
   ]
  },
  {
   "cell_type": "code",
   "execution_count": 8,
   "id": "2a9ccda2",
   "metadata": {},
   "outputs": [
    {
     "data": {
      "text/html": [
       "<div>\n",
       "<style scoped>\n",
       "    .dataframe tbody tr th:only-of-type {\n",
       "        vertical-align: middle;\n",
       "    }\n",
       "\n",
       "    .dataframe tbody tr th {\n",
       "        vertical-align: top;\n",
       "    }\n",
       "\n",
       "    .dataframe thead th {\n",
       "        text-align: right;\n",
       "    }\n",
       "</style>\n",
       "<table border=\"1\" class=\"dataframe\">\n",
       "  <thead>\n",
       "    <tr style=\"text-align: right;\">\n",
       "      <th></th>\n",
       "      <th>review</th>\n",
       "      <th>sentiment</th>\n",
       "      <th>code</th>\n",
       "    </tr>\n",
       "  </thead>\n",
       "  <tbody>\n",
       "    <tr>\n",
       "      <th>0</th>\n",
       "      <td>One of the other reviewers has mentioned that ...</td>\n",
       "      <td>positive</td>\n",
       "      <td>1</td>\n",
       "    </tr>\n",
       "    <tr>\n",
       "      <th>1</th>\n",
       "      <td>A wonderful little production. &lt;br /&gt;&lt;br /&gt;The...</td>\n",
       "      <td>positive</td>\n",
       "      <td>1</td>\n",
       "    </tr>\n",
       "    <tr>\n",
       "      <th>2</th>\n",
       "      <td>I thought this was a wonderful way to spend ti...</td>\n",
       "      <td>positive</td>\n",
       "      <td>1</td>\n",
       "    </tr>\n",
       "    <tr>\n",
       "      <th>3</th>\n",
       "      <td>Basically there's a family where a little boy ...</td>\n",
       "      <td>negative</td>\n",
       "      <td>0</td>\n",
       "    </tr>\n",
       "    <tr>\n",
       "      <th>4</th>\n",
       "      <td>Petter Mattei's \"Love in the Time of Money\" is...</td>\n",
       "      <td>positive</td>\n",
       "      <td>1</td>\n",
       "    </tr>\n",
       "  </tbody>\n",
       "</table>\n",
       "</div>"
      ],
      "text/plain": [
       "                                              review sentiment code\n",
       "0  One of the other reviewers has mentioned that ...  positive    1\n",
       "1  A wonderful little production. <br /><br />The...  positive    1\n",
       "2  I thought this was a wonderful way to spend ti...  positive    1\n",
       "3  Basically there's a family where a little boy ...  negative    0\n",
       "4  Petter Mattei's \"Love in the Time of Money\" is...  positive    1"
      ]
     },
     "execution_count": 8,
     "metadata": {},
     "output_type": "execute_result"
    }
   ],
   "source": [
    "df.head()"
   ]
  },
  {
   "cell_type": "code",
   "execution_count": 9,
   "id": "0876aad8",
   "metadata": {},
   "outputs": [],
   "source": [
    "X = df['review']\n",
    "y= df['code']"
   ]
  },
  {
   "cell_type": "code",
   "execution_count": 10,
   "id": "f6c466fb",
   "metadata": {},
   "outputs": [],
   "source": [
    "#changing datatype to int64\n",
    "y = y.apply(pd.to_numeric)  "
   ]
  },
  {
   "cell_type": "code",
   "execution_count": 11,
   "id": "3ee7acd3",
   "metadata": {},
   "outputs": [
    {
     "data": {
      "text/plain": [
       "0        One of the other reviewers has mentioned that ...\n",
       "1        A wonderful little production. <br /><br />The...\n",
       "2        I thought this was a wonderful way to spend ti...\n",
       "3        Basically there's a family where a little boy ...\n",
       "4        Petter Mattei's \"Love in the Time of Money\" is...\n",
       "                               ...                        \n",
       "49995    I thought this movie did a down right good job...\n",
       "49996    Bad plot, bad dialogue, bad acting, idiotic di...\n",
       "49997    I am a Catholic taught in parochial elementary...\n",
       "49998    I'm going to have to disagree with the previou...\n",
       "49999    No one expects the Star Trek movies to be high...\n",
       "Name: review, Length: 50000, dtype: object"
      ]
     },
     "execution_count": 11,
     "metadata": {},
     "output_type": "execute_result"
    }
   ],
   "source": [
    "X"
   ]
  },
  {
   "cell_type": "code",
   "execution_count": 12,
   "id": "29e18687",
   "metadata": {},
   "outputs": [
    {
     "data": {
      "text/plain": [
       "0        1\n",
       "1        1\n",
       "2        1\n",
       "3        0\n",
       "4        1\n",
       "        ..\n",
       "49995    1\n",
       "49996    0\n",
       "49997    0\n",
       "49998    0\n",
       "49999    0\n",
       "Name: code, Length: 50000, dtype: int64"
      ]
     },
     "execution_count": 12,
     "metadata": {},
     "output_type": "execute_result"
    }
   ],
   "source": [
    "y"
   ]
  },
  {
   "cell_type": "markdown",
   "id": "92695f97",
   "metadata": {},
   "source": [
    "<h2> Text Cleaning and Preprocessing </h2>"
   ]
  },
  {
   "cell_type": "code",
   "execution_count": 13,
   "id": "7d1040a7",
   "metadata": {},
   "outputs": [],
   "source": [
    "import nltk\n",
    "from nltk.corpus import stopwords\n",
    "from nltk.stem.porter import PorterStemmer\n",
    "ps = PorterStemmer()"
   ]
  },
  {
   "cell_type": "code",
   "execution_count": 14,
   "id": "7e4643e0",
   "metadata": {},
   "outputs": [],
   "source": [
    "corpus = []   "
   ]
  },
  {
   "cell_type": "code",
   "execution_count": 15,
   "id": "cc4b5112",
   "metadata": {},
   "outputs": [],
   "source": [
    "#text preprocessing\n",
    "#removing special characters\n",
    "#stemming using porter stemmer\n",
    "for i in range(len(X)):\n",
    "    text = re.sub('[^a-zA-Z]', ' ',X[i])\n",
    "    text = text.lower()\n",
    "    text = text.split()\n",
    "    text = [ps.stem(word) for word in text if not word in stopwords.words('english')]\n",
    "    text = ' '.join(text)\n",
    "    corpus.append(text)"
   ]
  },
  {
   "cell_type": "code",
   "execution_count": 16,
   "id": "68decd6b",
   "metadata": {},
   "outputs": [],
   "source": [
    "#corpus"
   ]
  },
  {
   "cell_type": "code",
   "execution_count": 17,
   "id": "f0ddaae8",
   "metadata": {},
   "outputs": [],
   "source": [
    "#Importing Modules \n",
    "from tensorflow.keras.layers import Embedding\n",
    "from tensorflow.keras.preprocessing.sequence import pad_sequences\n",
    "from tensorflow.keras.models import Sequential\n",
    "from tensorflow.keras.preprocessing.text import one_hot\n",
    "from tensorflow.keras.layers import LSTM\n",
    "from tensorflow.keras.layers import Dense\n",
    "from keras.layers import Dropout\n"
   ]
  },
  {
   "cell_type": "markdown",
   "id": "ec7732b8",
   "metadata": {},
   "source": [
    "<h2> Embedding Matrix"
   ]
  },
  {
   "cell_type": "code",
   "execution_count": 18,
   "id": "fe813478",
   "metadata": {},
   "outputs": [],
   "source": [
    "voc_size = 5000\n",
    "onehot_repr = [one_hot(words,voc_size) for words in corpus]\n",
    "#onehot_repr"
   ]
  },
  {
   "cell_type": "code",
   "execution_count": 19,
   "id": "1c03092e",
   "metadata": {},
   "outputs": [
    {
     "name": "stdout",
     "output_type": "stream",
     "text": [
      "[[3110 4371  893 ... 1313 3694 3294]\n",
      " [   0    0    0 ... 3444 1407 2698]\n",
      " [   0    0    0 ... 4546 2583 2500]\n",
      " ...\n",
      " [   0    0    0 ... 2066 1566 4252]\n",
      " [   0    0    0 ... 2093 2699 1316]\n",
      " [   0    0    0 ... 3443 1295 4893]]\n"
     ]
    }
   ],
   "source": [
    "#Embedding Layer\n",
    "sent_length = 150\n",
    "embedded_docs= pad_sequences(onehot_repr,padding='pre',maxlen=sent_length)\n",
    "print(embedded_docs)"
   ]
  },
  {
   "cell_type": "code",
   "execution_count": 20,
   "id": "5416729d",
   "metadata": {},
   "outputs": [
    {
     "data": {
      "text/plain": [
       "array([3110, 4371,  893, 4933, 1369, 4546, 4260, 2080, 4791, 3980, 2466,\n",
       "       2080, 2679, 3849, 1069,  496, 2556, 4371, 3501, 3189, 1259, 1369,\n",
       "       4599, 4599, 4947, 2872, 3582, 3528,  914, 2722, 3285, 3096, 4147,\n",
       "       2788,  945, 2720,  464, 4476, 1905, 1197, 3062, 4341, 3972, 4082,\n",
       "       3602, 4414,  400, 2372, 4911,  464, 4454, 4518, 2900, 3054, 2072,\n",
       "       1332, 4252,  606, 2880,  681,  748, 4994, 4315, 2811, 3886, 1744,\n",
       "        748, 2865, 2115, 4599, 4599,  475, 2926, 4415, 2460, 2080, 3763,\n",
       "       2879,  306, 2080, 2890, 1593, 3789, 2006, 4642, 4298, 3110, 1593,\n",
       "       1893, 1593, 4272, 2872, 3386,  323, 4343, 1731, 4337, 1000, 3070,\n",
       "       2011, 4660, 2926, 4740, 4211, 3888,  291, 2872, 3862, 1948,  400,\n",
       "       3347, 4463, 4371, 4371,  455,  362,  567, 4160,  433, 4206, 2861,\n",
       "        878, 1978, 2115, 1407,  429,  988,  102, 4206, 3020, 1197, 3474,\n",
       "       3763,  817, 3590, 2863, 1197, 3248, 4211, 2872, 1573, 1908, 3553,\n",
       "       3115, 2088, 2532, 1978, 1313, 3694, 3294])"
      ]
     },
     "execution_count": 20,
     "metadata": {},
     "output_type": "execute_result"
    }
   ],
   "source": [
    "embedded_docs[0]"
   ]
  },
  {
   "cell_type": "code",
   "execution_count": 21,
   "id": "a8452a6e",
   "metadata": {},
   "outputs": [
    {
     "data": {
      "text/plain": [
       "(50000, (50000,))"
      ]
     },
     "execution_count": 21,
     "metadata": {},
     "output_type": "execute_result"
    }
   ],
   "source": [
    "len(embedded_docs),y.shape"
   ]
  },
  {
   "cell_type": "markdown",
   "id": "858de097",
   "metadata": {},
   "source": [
    "<h3> LSTM model for sentiment prediction"
   ]
  },
  {
   "cell_type": "markdown",
   "id": "7563d964",
   "metadata": {},
   "source": [
    "<h4>Initialising a sequential model</h4>\n",
    "<h4>setting dimension of embedding matrix to 100</h4>\n",
    "<h4>initiliasing a sequential model</h4>\n",
    "<h4>adding embedding layer</h4>\n",
    "<h4>adding dropout layers to avoid overfitting</h4>"
   ]
  },
  {
   "cell_type": "code",
   "execution_count": 22,
   "id": "5f3906da",
   "metadata": {},
   "outputs": [
    {
     "name": "stdout",
     "output_type": "stream",
     "text": [
      "Model: \"sequential\"\n",
      "_________________________________________________________________\n",
      "Layer (type)                 Output Shape              Param #   \n",
      "=================================================================\n",
      "embedding (Embedding)        (None, 150, 100)          500000    \n",
      "_________________________________________________________________\n",
      "module_wrapper (ModuleWrappe (None, 150, 100)          0         \n",
      "_________________________________________________________________\n",
      "lstm (LSTM)                  (None, 100)               80400     \n",
      "_________________________________________________________________\n",
      "dense (Dense)                (None, 1)                 101       \n",
      "_________________________________________________________________\n",
      "module_wrapper_1 (ModuleWrap (None, 1)                 0         \n",
      "=================================================================\n",
      "Total params: 580,501\n",
      "Trainable params: 580,501\n",
      "Non-trainable params: 0\n",
      "_________________________________________________________________\n",
      "None\n"
     ]
    }
   ],
   "source": [
    "#Model\n",
    "embedding_dim = 100   \n",
    "model = Sequential() \n",
    "model.add(Embedding(voc_size,embedding_dim,input_length=sent_length))   \n",
    "model.add(Dropout(0.3))\n",
    "model.add(LSTM(100))\n",
    "model.add(Dense(1,activation='sigmoid'))\n",
    "model.add(Dropout(0.3))\n",
    "model.compile(loss='binary_crossentropy',optimizer='adam',metrics=['accuracy'])\n",
    "print(model.summary())"
   ]
  },
  {
   "cell_type": "code",
   "execution_count": 23,
   "id": "5b60174c",
   "metadata": {},
   "outputs": [],
   "source": [
    "X_final = np.array(embedded_docs)\n",
    "y_final=np.array(y)"
   ]
  },
  {
   "cell_type": "code",
   "execution_count": 24,
   "id": "1a8e8c54",
   "metadata": {},
   "outputs": [
    {
     "data": {
      "text/plain": [
       "((50000, 150), (50000,))"
      ]
     },
     "execution_count": 24,
     "metadata": {},
     "output_type": "execute_result"
    }
   ],
   "source": [
    "X_final.shape,y_final.shape"
   ]
  },
  {
   "cell_type": "code",
   "execution_count": 25,
   "id": "2ad7f53d",
   "metadata": {},
   "outputs": [
    {
     "data": {
      "text/plain": [
       "array([[3110, 4371,  893, ..., 1313, 3694, 3294],\n",
       "       [   0,    0,    0, ..., 3444, 1407, 2698],\n",
       "       [   0,    0,    0, ..., 4546, 2583, 2500],\n",
       "       ...,\n",
       "       [   0,    0,    0, ..., 2066, 1566, 4252],\n",
       "       [   0,    0,    0, ..., 2093, 2699, 1316],\n",
       "       [   0,    0,    0, ..., 3443, 1295, 4893]])"
      ]
     },
     "execution_count": 25,
     "metadata": {},
     "output_type": "execute_result"
    }
   ],
   "source": [
    "X_final"
   ]
  },
  {
   "cell_type": "code",
   "execution_count": 26,
   "id": "0178d4df",
   "metadata": {},
   "outputs": [
    {
     "data": {
      "text/plain": [
       "array([1, 1, 1, ..., 0, 0, 0], dtype=int64)"
      ]
     },
     "execution_count": 26,
     "metadata": {},
     "output_type": "execute_result"
    }
   ],
   "source": [
    "y_final"
   ]
  },
  {
   "cell_type": "markdown",
   "id": "54e594c9",
   "metadata": {},
   "source": [
    "<h3> Splitting test and train data"
   ]
  },
  {
   "cell_type": "code",
   "execution_count": 27,
   "id": "4ba45de2",
   "metadata": {},
   "outputs": [],
   "source": [
    "from sklearn.model_selection import train_test_split\n",
    "X_train, X_test, y_train, y_test = train_test_split(X_final, y_final, test_size=0.33, random_state=42)"
   ]
  },
  {
   "cell_type": "markdown",
   "id": "31ffcc5e",
   "metadata": {},
   "source": [
    "<h3>Model Training</h3>\n",
    "<h4> Setting epoch = 25 and batch-size as 200"
   ]
  },
  {
   "cell_type": "code",
   "execution_count": 28,
   "id": "29903047",
   "metadata": {},
   "outputs": [
    {
     "name": "stdout",
     "output_type": "stream",
     "text": [
      "Epoch 1/25\n",
      "168/168 [==============================] - 44s 256ms/step - loss: 2.6808 - accuracy: 0.6776 - val_loss: 0.4802 - val_accuracy: 0.7930\n",
      "Epoch 2/25\n",
      "168/168 [==============================] - 42s 252ms/step - loss: 2.5323 - accuracy: 0.7554 - val_loss: 0.5699 - val_accuracy: 0.7277\n",
      "Epoch 3/25\n",
      "168/168 [==============================] - 42s 252ms/step - loss: 2.5562 - accuracy: 0.7592 - val_loss: 0.4338 - val_accuracy: 0.8475\n",
      "Epoch 4/25\n",
      "168/168 [==============================] - 42s 251ms/step - loss: 2.4996 - accuracy: 0.7719 - val_loss: 0.4663 - val_accuracy: 0.8315\n",
      "Epoch 5/25\n",
      "168/168 [==============================] - 42s 252ms/step - loss: 2.5147 - accuracy: 0.7748 - val_loss: 0.4573 - val_accuracy: 0.8377\n",
      "Epoch 6/25\n",
      "168/168 [==============================] - 42s 252ms/step - loss: 2.5203 - accuracy: 0.7728 - val_loss: 0.4506 - val_accuracy: 0.8336\n",
      "Epoch 7/25\n",
      "168/168 [==============================] - 42s 253ms/step - loss: 2.4949 - accuracy: 0.7816 - val_loss: 0.4401 - val_accuracy: 0.8372\n",
      "Epoch 8/25\n",
      "168/168 [==============================] - 42s 248ms/step - loss: 2.4901 - accuracy: 0.7873 - val_loss: 0.4918 - val_accuracy: 0.8368\n",
      "Epoch 9/25\n",
      "168/168 [==============================] - 41s 247ms/step - loss: 2.4664 - accuracy: 0.7908 - val_loss: 0.4871 - val_accuracy: 0.8228\n",
      "Epoch 10/25\n",
      "168/168 [==============================] - 41s 245ms/step - loss: 2.7298 - accuracy: 0.6865 - val_loss: 1.5353 - val_accuracy: 0.4995\n",
      "Epoch 11/25\n",
      "168/168 [==============================] - 41s 244ms/step - loss: 2.7976 - accuracy: 0.5814 - val_loss: 0.7085 - val_accuracy: 0.5205\n",
      "Epoch 12/25\n",
      "168/168 [==============================] - 41s 245ms/step - loss: 2.6913 - accuracy: 0.6314 - val_loss: 0.6590 - val_accuracy: 0.5821\n",
      "Epoch 13/25\n",
      "168/168 [==============================] - 42s 249ms/step - loss: 2.6130 - accuracy: 0.7343 - val_loss: 0.4793 - val_accuracy: 0.7938\n",
      "Epoch 14/25\n",
      "168/168 [==============================] - 42s 251ms/step - loss: 2.5876 - accuracy: 0.7453 - val_loss: 0.6324 - val_accuracy: 0.5721\n",
      "Epoch 15/25\n",
      "168/168 [==============================] - 42s 251ms/step - loss: 2.5395 - accuracy: 0.7726 - val_loss: 0.4258 - val_accuracy: 0.8385\n",
      "Epoch 16/25\n",
      "168/168 [==============================] - 42s 250ms/step - loss: 2.5628 - accuracy: 0.7680 - val_loss: 0.4510 - val_accuracy: 0.8176\n",
      "Epoch 17/25\n",
      "168/168 [==============================] - 42s 252ms/step - loss: 2.6802 - accuracy: 0.7083 - val_loss: 0.4663 - val_accuracy: 0.7977\n",
      "Epoch 18/25\n",
      "168/168 [==============================] - 42s 251ms/step - loss: 2.6867 - accuracy: 0.7322 - val_loss: 2.1030 - val_accuracy: 0.4975\n",
      "Epoch 19/25\n",
      "168/168 [==============================] - 42s 251ms/step - loss: 2.7589 - accuracy: 0.6421 - val_loss: 0.6068 - val_accuracy: 0.6326\n",
      "Epoch 20/25\n",
      "168/168 [==============================] - 42s 251ms/step - loss: 2.6097 - accuracy: 0.7319 - val_loss: 0.5002 - val_accuracy: 0.7721\n",
      "Epoch 21/25\n",
      "168/168 [==============================] - 42s 252ms/step - loss: 2.5270 - accuracy: 0.7763 - val_loss: 0.4671 - val_accuracy: 0.8037\n",
      "Epoch 22/25\n",
      "168/168 [==============================] - 42s 251ms/step - loss: 2.4606 - accuracy: 0.7827 - val_loss: 0.4256 - val_accuracy: 0.8366\n",
      "Epoch 23/25\n",
      "168/168 [==============================] - 42s 252ms/step - loss: 2.4822 - accuracy: 0.7882 - val_loss: 0.4105 - val_accuracy: 0.8407\n",
      "Epoch 24/25\n",
      "168/168 [==============================] - 42s 252ms/step - loss: 2.8401 - accuracy: 0.7033 - val_loss: 0.8065 - val_accuracy: 0.5069\n",
      "Epoch 25/25\n",
      "168/168 [==============================] - 42s 251ms/step - loss: 2.6982 - accuracy: 0.6979 - val_loss: 0.5244 - val_accuracy: 0.7872\n"
     ]
    },
    {
     "data": {
      "text/plain": [
       "<tensorflow.python.keras.callbacks.History at 0x250aedded30>"
      ]
     },
     "execution_count": 28,
     "metadata": {},
     "output_type": "execute_result"
    }
   ],
   "source": [
    "model.fit(X_train,y_train,validation_data=(X_test,y_test),epochs=25,batch_size=200)"
   ]
  },
  {
   "cell_type": "markdown",
   "id": "142f3011",
   "metadata": {},
   "source": [
    "<h3> Predicting for test data"
   ]
  },
  {
   "cell_type": "code",
   "execution_count": 29,
   "id": "55bf0966",
   "metadata": {},
   "outputs": [
    {
     "name": "stderr",
     "output_type": "stream",
     "text": [
      "c:\\users\\lenovo\\appdata\\local\\programs\\python\\python38\\lib\\site-packages\\tensorflow\\python\\keras\\engine\\sequential.py:455: UserWarning: `model.predict_classes()` is deprecated and will be removed after 2021-01-01. Please use instead:* `np.argmax(model.predict(x), axis=-1)`,   if your model does multi-class classification   (e.g. if it uses a `softmax` last-layer activation).* `(model.predict(x) > 0.5).astype(\"int32\")`,   if your model does binary classification   (e.g. if it uses a `sigmoid` last-layer activation).\n",
      "  warnings.warn('`model.predict_classes()` is deprecated and '\n"
     ]
    }
   ],
   "source": [
    "y_pred=model.predict_classes(X_test)"
   ]
  },
  {
   "cell_type": "markdown",
   "id": "90754a02",
   "metadata": {},
   "source": [
    "<h3> Code   :   Sentiment </h3>\n",
    "<h3> 1      :   Positive  </h3>\n",
    "<h3> 0      :  Negative  </h3>"
   ]
  },
  {
   "cell_type": "code",
   "execution_count": 30,
   "id": "a0505e68",
   "metadata": {},
   "outputs": [
    {
     "data": {
      "text/plain": [
       "array([[0],\n",
       "       [0],\n",
       "       [0],\n",
       "       ...,\n",
       "       [1],\n",
       "       [1],\n",
       "       [0]])"
      ]
     },
     "execution_count": 30,
     "metadata": {},
     "output_type": "execute_result"
    }
   ],
   "source": [
    "y_pred"
   ]
  },
  {
   "cell_type": "markdown",
   "id": "ac49eb16",
   "metadata": {},
   "source": [
    "<h3> Accuracy Score"
   ]
  },
  {
   "cell_type": "code",
   "execution_count": 31,
   "id": "aecda01b",
   "metadata": {},
   "outputs": [
    {
     "data": {
      "text/plain": [
       "0.7871515151515152"
      ]
     },
     "execution_count": 31,
     "metadata": {},
     "output_type": "execute_result"
    }
   ],
   "source": [
    "from sklearn.metrics import accuracy_score\n",
    "accuracy_score(y_test,y_pred)"
   ]
  },
  {
   "cell_type": "markdown",
   "id": "671ce14f",
   "metadata": {},
   "source": [
    "<h2> An accuracy of 83.68% is achieved"
   ]
  },
  {
   "cell_type": "code",
   "execution_count": 32,
   "id": "f7acde2f",
   "metadata": {},
   "outputs": [],
   "source": [
    "import matplotlib.pyplot as plt\n",
    "import seaborn as sns\n",
    "from sklearn import metrics"
   ]
  },
  {
   "cell_type": "markdown",
   "id": "22cb924a",
   "metadata": {},
   "source": [
    "<h2> Confusion Matrix"
   ]
  },
  {
   "cell_type": "code",
   "execution_count": 33,
   "id": "c904bd2b",
   "metadata": {},
   "outputs": [
    {
     "data": {
      "image/png": "[encoded data removed]",
      "text/plain": [
       "<Figure size 216x216 with 1 Axes>"
      ]
     },
     "metadata": {
      "needs_background": "light"
     },
     "output_type": "display_data"
    }
   ],
   "source": [
    "cm = metrics.confusion_matrix(y_test, y_pred)\n",
    "f,ax = plt.subplots(figsize=(3,3))\n",
    "sns.heatmap(cm,annot=True,linewidths=0.5,cbar=False,linecolor=\"red\",fmt='.0f',ax=ax)\n",
    "plt.xlabel(\"y_predict\")\n",
    "plt.ylabel(\"y_true\")\n",
    "ax.set(title=str('LSTM'))\n",
    "plt.show()\n",
    "\n"
   ]
  },
  {
   "cell_type": "markdown",
   "id": "6e2fbcf5",
   "metadata": {},
   "source": [
    "<h3>accuracy = (7496 + 6312)/(7496+712+1980+6312) = 0.8368"
   ]
  }
 ],
 "metadata": {
  "kernelspec": {
   "display_name": "Python 3 (ipykernel)",
   "language": "python",
   "name": "python3"
  },
  "language_info": {
   "codemirror_mode": {
    "name": "ipython",
    "version": 3
   },
   "file_extension": ".py",
   "mimetype": "text/x-python",
   "name": "python",
   "nbconvert_exporter": "python",
   "pygments_lexer": "ipython3",
   "version": "3.8.10"
  }
 },
 "nbformat": 4,
 "nbformat_minor": 5
}
