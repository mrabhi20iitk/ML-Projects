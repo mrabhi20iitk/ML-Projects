{
 "cells": [
  {
   "cell_type": "markdown",
   "id": "06097ec7",
   "metadata": {},
   "source": [
    "<h1> Sentiment Analysis of  Kaggle-IMDB movie reviews dataset using Deep Learning</h1>"
   ]
  },
  {
   "cell_type": "markdown",
   "id": "9200d9e6",
   "metadata": {},
   "source": [
    "<h2>Importing Modules "
   ]
  },
  {
   "cell_type": "code",
   "execution_count": 1,
   "id": "706dc275",
   "metadata": {},
   "outputs": [],
   "source": [
    "import re\n",
    "import pandas as pd\n",
    "import numpy as np\n",
    "import tensorflow as tf"
   ]
  },
  {
   "cell_type": "code",
   "execution_count": 2,
   "id": "bee659ef",
   "metadata": {},
   "outputs": [
    {
     "data": {
      "text/plain": [
       "'2.5.0'"
      ]
     },
     "execution_count": 2,
     "metadata": {},
     "output_type": "execute_result"
    }
   ],
   "source": [
    "tf.__version__"
   ]
  },
  {
   "cell_type": "markdown",
   "id": "edb75811",
   "metadata": {},
   "source": [
    "<h4>Dataset Link :https://www.kaggle.com/lakshmi25npathi/imdb-dataset-of-50k-movie-reviews/code</h4>"
   ]
  },
  {
   "cell_type": "code",
   "execution_count": 3,
   "id": "59a9a88c",
   "metadata": {},
   "outputs": [],
   "source": [
    "df = pd.read_csv('IMDB Dataset.csv')"
   ]
  },
  {
   "cell_type": "code",
   "execution_count": 4,
   "id": "f648e87b",
   "metadata": {},
   "outputs": [
    {
     "data": {
      "text/html": [
       "<div>\n",
       "<style scoped>\n",
       "    .dataframe tbody tr th:only-of-type {\n",
       "        vertical-align: middle;\n",
       "    }\n",
       "\n",
       "    .dataframe tbody tr th {\n",
       "        vertical-align: top;\n",
       "    }\n",
       "\n",
       "    .dataframe thead th {\n",
       "        text-align: right;\n",
       "    }\n",
       "</style>\n",
       "<table border=\"1\" class=\"dataframe\">\n",
       "  <thead>\n",
       "    <tr style=\"text-align: right;\">\n",
       "      <th></th>\n",
       "      <th>review</th>\n",
       "      <th>sentiment</th>\n",
       "    </tr>\n",
       "  </thead>\n",
       "  <tbody>\n",
       "    <tr>\n",
       "      <th>0</th>\n",
       "      <td>One of the other reviewers has mentioned that ...</td>\n",
       "      <td>positive</td>\n",
       "    </tr>\n",
       "    <tr>\n",
       "      <th>1</th>\n",
       "      <td>A wonderful little production. &lt;br /&gt;&lt;br /&gt;The...</td>\n",
       "      <td>positive</td>\n",
       "    </tr>\n",
       "    <tr>\n",
       "      <th>2</th>\n",
       "      <td>I thought this was a wonderful way to spend ti...</td>\n",
       "      <td>positive</td>\n",
       "    </tr>\n",
       "    <tr>\n",
       "      <th>3</th>\n",
       "      <td>Basically there's a family where a little boy ...</td>\n",
       "      <td>negative</td>\n",
       "    </tr>\n",
       "    <tr>\n",
       "      <th>4</th>\n",
       "      <td>Petter Mattei's \"Love in the Time of Money\" is...</td>\n",
       "      <td>positive</td>\n",
       "    </tr>\n",
       "  </tbody>\n",
       "</table>\n",
       "</div>"
      ],
      "text/plain": [
       "                                              review sentiment\n",
       "0  One of the other reviewers has mentioned that ...  positive\n",
       "1  A wonderful little production. <br /><br />The...  positive\n",
       "2  I thought this was a wonderful way to spend ti...  positive\n",
       "3  Basically there's a family where a little boy ...  negative\n",
       "4  Petter Mattei's \"Love in the Time of Money\" is...  positive"
      ]
     },
     "execution_count": 4,
     "metadata": {},
     "output_type": "execute_result"
    }
   ],
   "source": [
    "df.head()"
   ]
  },
  {
   "cell_type": "code",
   "execution_count": 5,
   "id": "09230c13",
   "metadata": {},
   "outputs": [
    {
     "data": {
      "text/plain": [
       "(50000, 2)"
      ]
     },
     "execution_count": 5,
     "metadata": {},
     "output_type": "execute_result"
    }
   ],
   "source": [
    "df.shape   #DataFrame Shape"
   ]
  },
  {
   "cell_type": "code",
   "execution_count": 6,
   "id": "ab921dc9",
   "metadata": {},
   "outputs": [
    {
     "data": {
      "text/plain": [
       "False"
      ]
     },
     "execution_count": 6,
     "metadata": {},
     "output_type": "execute_result"
    }
   ],
   "source": [
    "df.isnull().values.any()    #To check for any null values,if present"
   ]
  },
  {
   "cell_type": "code",
   "execution_count": 7,
   "id": "22b68e30",
   "metadata": {},
   "outputs": [],
   "source": [
    "#Labelling Dependent Feature\n",
    "df['code'] = df['sentiment'].copy()\n",
    "for i in range(len(df)):\n",
    "    if df['sentiment'][i] == 'positive':\n",
    "        df['code'][i] = 1\n",
    "    else:\n",
    "        df['code'][i] = 0\n",
    "        "
   ]
  },
  {
   "cell_type": "markdown",
   "id": "459193ef",
   "metadata": {},
   "source": [
    "<h2> Code   :   Sentiment </h3>\n",
    "<h3> 1      :   Positive  </h3>\n",
    "<h3> 0      :  Negative  </h3>"
   ]
  },
  {
   "cell_type": "code",
   "execution_count": 8,
   "id": "2a9ccda2",
   "metadata": {},
   "outputs": [
    {
     "data": {
      "text/html": [
       "<div>\n",
       "<style scoped>\n",
       "    .dataframe tbody tr th:only-of-type {\n",
       "        vertical-align: middle;\n",
       "    }\n",
       "\n",
       "    .dataframe tbody tr th {\n",
       "        vertical-align: top;\n",
       "    }\n",
       "\n",
       "    .dataframe thead th {\n",
       "        text-align: right;\n",
       "    }\n",
       "</style>\n",
       "<table border=\"1\" class=\"dataframe\">\n",
       "  <thead>\n",
       "    <tr style=\"text-align: right;\">\n",
       "      <th></th>\n",
       "      <th>review</th>\n",
       "      <th>sentiment</th>\n",
       "      <th>code</th>\n",
       "    </tr>\n",
       "  </thead>\n",
       "  <tbody>\n",
       "    <tr>\n",
       "      <th>0</th>\n",
       "      <td>One of the other reviewers has mentioned that ...</td>\n",
       "      <td>positive</td>\n",
       "      <td>1</td>\n",
       "    </tr>\n",
       "    <tr>\n",
       "      <th>1</th>\n",
       "      <td>A wonderful little production. &lt;br /&gt;&lt;br /&gt;The...</td>\n",
       "      <td>positive</td>\n",
       "      <td>1</td>\n",
       "    </tr>\n",
       "    <tr>\n",
       "      <th>2</th>\n",
       "      <td>I thought this was a wonderful way to spend ti...</td>\n",
       "      <td>positive</td>\n",
       "      <td>1</td>\n",
       "    </tr>\n",
       "    <tr>\n",
       "      <th>3</th>\n",
       "      <td>Basically there's a family where a little boy ...</td>\n",
       "      <td>negative</td>\n",
       "      <td>0</td>\n",
       "    </tr>\n",
       "    <tr>\n",
       "      <th>4</th>\n",
       "      <td>Petter Mattei's \"Love in the Time of Money\" is...</td>\n",
       "      <td>positive</td>\n",
       "      <td>1</td>\n",
       "    </tr>\n",
       "  </tbody>\n",
       "</table>\n",
       "</div>"
      ],
      "text/plain": [
       "                                              review sentiment code\n",
       "0  One of the other reviewers has mentioned that ...  positive    1\n",
       "1  A wonderful little production. <br /><br />The...  positive    1\n",
       "2  I thought this was a wonderful way to spend ti...  positive    1\n",
       "3  Basically there's a family where a little boy ...  negative    0\n",
       "4  Petter Mattei's \"Love in the Time of Money\" is...  positive    1"
      ]
     },
     "execution_count": 8,
     "metadata": {},
     "output_type": "execute_result"
    }
   ],
   "source": [
    "df.head()"
   ]
  },
  {
   "cell_type": "code",
   "execution_count": 9,
   "id": "0876aad8",
   "metadata": {},
   "outputs": [],
   "source": [
    "X = df['review']\n",
    "y= df['code']"
   ]
  },
  {
   "cell_type": "code",
   "execution_count": 10,
   "id": "f6c466fb",
   "metadata": {},
   "outputs": [],
   "source": [
    "#changing datatype to int64\n",
    "y = y.apply(pd.to_numeric)  "
   ]
  },
  {
   "cell_type": "code",
   "execution_count": 11,
   "id": "3ee7acd3",
   "metadata": {},
   "outputs": [
    {
     "data": {
      "text/plain": [
       "0        One of the other reviewers has mentioned that ...\n",
       "1        A wonderful little production. <br /><br />The...\n",
       "2        I thought this was a wonderful way to spend ti...\n",
       "3        Basically there's a family where a little boy ...\n",
       "4        Petter Mattei's \"Love in the Time of Money\" is...\n",
       "                               ...                        \n",
       "49995    I thought this movie did a down right good job...\n",
       "49996    Bad plot, bad dialogue, bad acting, idiotic di...\n",
       "49997    I am a Catholic taught in parochial elementary...\n",
       "49998    I'm going to have to disagree with the previou...\n",
       "49999    No one expects the Star Trek movies to be high...\n",
       "Name: review, Length: 50000, dtype: object"
      ]
     },
     "execution_count": 11,
     "metadata": {},
     "output_type": "execute_result"
    }
   ],
   "source": [
    "X"
   ]
  },
  {
   "cell_type": "code",
   "execution_count": 12,
   "id": "29e18687",
   "metadata": {},
   "outputs": [
    {
     "data": {
      "text/plain": [
       "0        1\n",
       "1        1\n",
       "2        1\n",
       "3        0\n",
       "4        1\n",
       "        ..\n",
       "49995    1\n",
       "49996    0\n",
       "49997    0\n",
       "49998    0\n",
       "49999    0\n",
       "Name: code, Length: 50000, dtype: int64"
      ]
     },
     "execution_count": 12,
     "metadata": {},
     "output_type": "execute_result"
    }
   ],
   "source": [
    "y"
   ]
  },
  {
   "cell_type": "markdown",
   "id": "92695f97",
   "metadata": {},
   "source": [
    "<h2> Text Cleaning and Preprocessing </h2>"
   ]
  },
  {
   "cell_type": "code",
   "execution_count": 13,
   "id": "7d1040a7",
   "metadata": {},
   "outputs": [],
   "source": [
    "import nltk\n",
    "from nltk.corpus import stopwords\n",
    "from nltk.stem.porter import PorterStemmer\n",
    "ps = PorterStemmer()"
   ]
  },
  {
   "cell_type": "code",
   "execution_count": 14,
   "id": "7e4643e0",
   "metadata": {},
   "outputs": [],
   "source": [
    "corpus = []   "
   ]
  },
  {
   "cell_type": "code",
   "execution_count": 15,
   "id": "cc4b5112",
   "metadata": {},
   "outputs": [],
   "source": [
    "#text preprocessing\n",
    "#removing special characters\n",
    "#stemming using porter stemmer\n",
    "for i in range(len(X)):\n",
    "    text = re.sub('[^a-zA-Z]', ' ',X[i])\n",
    "    text = text.lower()\n",
    "    text = text.split()\n",
    "    text = [ps.stem(word) for word in text if not word in stopwords.words('english')]\n",
    "    text = ' '.join(text)\n",
    "    corpus.append(text)"
   ]
  },
  {
   "cell_type": "code",
   "execution_count": 16,
   "id": "68decd6b",
   "metadata": {},
   "outputs": [],
   "source": [
    "#corpus"
   ]
  },
  {
   "cell_type": "code",
   "execution_count": 17,
   "id": "f0ddaae8",
   "metadata": {},
   "outputs": [],
   "source": [
    "#Importing Modules \n",
    "from tensorflow.keras.layers import Embedding\n",
    "from tensorflow.keras.preprocessing.sequence import pad_sequences\n",
    "from tensorflow.keras.models import Sequential\n",
    "from tensorflow.keras.preprocessing.text import one_hot\n",
    "from tensorflow.keras.layers import LSTM\n",
    "from tensorflow.keras.layers import Dense\n",
    "from keras.layers import Dropout\n"
   ]
  },
  {
   "cell_type": "markdown",
   "id": "ec7732b8",
   "metadata": {},
   "source": [
    "<h2> Embedding Matrix"
   ]
  },
  {
   "cell_type": "code",
   "execution_count": 18,
   "id": "fe813478",
   "metadata": {},
   "outputs": [],
   "source": [
    "voc_size = 5000\n",
    "onehot_repr = [one_hot(words,voc_size) for words in corpus]\n",
    "#onehot_repr"
   ]
  },
  {
   "cell_type": "code",
   "execution_count": 19,
   "id": "1c03092e",
   "metadata": {},
   "outputs": [
    {
     "name": "stdout",
     "output_type": "stream",
     "text": [
      "[[3704  383 2459 ... 3702 2166 4985]\n",
      " [   0    0    0 ... 4241 4516 4240]\n",
      " [   0    0    0 ... 2853 4343 2584]\n",
      " ...\n",
      " [   0    0    0 ...  361 3790  980]\n",
      " [   0    0    0 ...  101 2488 4109]\n",
      " [   0    0    0 ... 4507 2101 2060]]\n"
     ]
    }
   ],
   "source": [
    "#Embedding Layer\n",
    "sent_length = 150\n",
    "embedded_docs= pad_sequences(onehot_repr,padding='pre',maxlen=sent_length)\n",
    "print(embedded_docs)"
   ]
  },
  {
   "cell_type": "code",
   "execution_count": 20,
   "id": "5416729d",
   "metadata": {},
   "outputs": [
    {
     "data": {
      "text/plain": [
       "array([3704,  383, 2459, 2626, 4113, 2853, 3723,  137, 1705, 4916,  154,\n",
       "        137, 3386, 1083,  718, 1498,  365,  383,  315,  332, 2854, 4113,\n",
       "       1327, 1327, 1476, 2136, 3987,  438, 4713, 2130,  584,  307, 3354,\n",
       "       2217,  871, 3321,  958, 4637, 4976, 4080, 4601, 4119, 4128, 4892,\n",
       "       1615, 3422, 1635, 1102, 2042,  958, 2679, 2898, 3889, 3404, 2864,\n",
       "       4202,  980, 4577, 1747, 4130,  648, 4972, 4746, 2928, 3918, 4075,\n",
       "       2175,  910, 3621, 1327, 1327, 3463, 4744, 1323, 1957,  137, 3793,\n",
       "       2607,  981,  137, 1711, 2320, 4447, 4551, 2926, 1819, 3418, 2320,\n",
       "       2821, 2320, 4066, 2136,  297, 3216, 3485, 4432,  818, 2136, 1737,\n",
       "        998, 2855, 4744, 2416, 2439,   80, 2904, 2136,   17,  457, 1635,\n",
       "       1290, 1591,  383,  383, 2418, 3611, 1261, 1093, 4241, 4255, 2817,\n",
       "       4537, 3182, 3621, 4516, 3679, 4298,  475, 4255, 3993, 4080, 2719,\n",
       "       3793, 1392, 3788,  511, 4080, 1795, 2439, 2136,  656,  623, 3058,\n",
       "       2553, 1117, 1031, 3182, 3702, 2166, 4985])"
      ]
     },
     "execution_count": 20,
     "metadata": {},
     "output_type": "execute_result"
    }
   ],
   "source": [
    "embedded_docs[0]"
   ]
  },
  {
   "cell_type": "code",
   "execution_count": 21,
   "id": "a8452a6e",
   "metadata": {},
   "outputs": [
    {
     "data": {
      "text/plain": [
       "(50000, (50000,))"
      ]
     },
     "execution_count": 21,
     "metadata": {},
     "output_type": "execute_result"
    }
   ],
   "source": [
    "len(embedded_docs),y.shape"
   ]
  },
  {
   "cell_type": "markdown",
   "id": "858de097",
   "metadata": {},
   "source": [
    "<h3> LSTM model for sentiment prediction"
   ]
  },
  {
   "cell_type": "markdown",
   "id": "7563d964",
   "metadata": {},
   "source": [
    "<h4>Initialising a sequential model</h4>\n",
    "<h4>setting dimension of embedding matrix to 100</h4>\n",
    "<h4>initiliasing a sequential model</h4>\n",
    "<h4>adding embedding layer</h4>\n",
    "<h4>adding dropout layers to avoid overfitting</h4>"
   ]
  },
  {
   "cell_type": "code",
   "execution_count": 22,
   "id": "5f3906da",
   "metadata": {},
   "outputs": [
    {
     "name": "stdout",
     "output_type": "stream",
     "text": [
      "Model: \"sequential\"\n",
      "_________________________________________________________________\n",
      "Layer (type)                 Output Shape              Param #   \n",
      "=================================================================\n",
      "embedding (Embedding)        (None, 150, 100)          500000    \n",
      "_________________________________________________________________\n",
      "module_wrapper (ModuleWrappe (None, 150, 100)          0         \n",
      "_________________________________________________________________\n",
      "lstm (LSTM)                  (None, 100)               80400     \n",
      "_________________________________________________________________\n",
      "dense (Dense)                (None, 1)                 101       \n",
      "_________________________________________________________________\n",
      "module_wrapper_1 (ModuleWrap (None, 1)                 0         \n",
      "=================================================================\n",
      "Total params: 580,501\n",
      "Trainable params: 580,501\n",
      "Non-trainable params: 0\n",
      "_________________________________________________________________\n",
      "None\n"
     ]
    }
   ],
   "source": [
    "#Model\n",
    "embedding_dim = 100   \n",
    "model = Sequential() \n",
    "model.add(Embedding(voc_size,embedding_dim,input_length=sent_length))   \n",
    "model.add(Dropout(0.3))\n",
    "model.add(LSTM(100))\n",
    "model.add(Dense(1,activation='sigmoid'))\n",
    "model.add(Dropout(0.3))\n",
    "model.compile(loss='binary_crossentropy',optimizer='adam',metrics=['accuracy'])\n",
    "print(model.summary())"
   ]
  },
  {
   "cell_type": "code",
   "execution_count": 23,
   "id": "5b60174c",
   "metadata": {},
   "outputs": [],
   "source": [
    "X_final = np.array(embedded_docs)\n",
    "y_final=np.array(y)"
   ]
  },
  {
   "cell_type": "code",
   "execution_count": 24,
   "id": "1a8e8c54",
   "metadata": {},
   "outputs": [
    {
     "data": {
      "text/plain": [
       "((50000, 150), (50000,))"
      ]
     },
     "execution_count": 24,
     "metadata": {},
     "output_type": "execute_result"
    }
   ],
   "source": [
    "X_final.shape,y_final.shape"
   ]
  },
  {
   "cell_type": "code",
   "execution_count": 25,
   "id": "2ad7f53d",
   "metadata": {},
   "outputs": [
    {
     "data": {
      "text/plain": [
       "array([[3704,  383, 2459, ..., 3702, 2166, 4985],\n",
       "       [   0,    0,    0, ..., 4241, 4516, 4240],\n",
       "       [   0,    0,    0, ..., 2853, 4343, 2584],\n",
       "       ...,\n",
       "       [   0,    0,    0, ...,  361, 3790,  980],\n",
       "       [   0,    0,    0, ...,  101, 2488, 4109],\n",
       "       [   0,    0,    0, ..., 4507, 2101, 2060]])"
      ]
     },
     "execution_count": 25,
     "metadata": {},
     "output_type": "execute_result"
    }
   ],
   "source": [
    "X_final"
   ]
  },
  {
   "cell_type": "code",
   "execution_count": 26,
   "id": "0178d4df",
   "metadata": {},
   "outputs": [
    {
     "data": {
      "text/plain": [
       "array([1, 1, 1, ..., 0, 0, 0], dtype=int64)"
      ]
     },
     "execution_count": 26,
     "metadata": {},
     "output_type": "execute_result"
    }
   ],
   "source": [
    "y_final"
   ]
  },
  {
   "cell_type": "markdown",
   "id": "54e594c9",
   "metadata": {},
   "source": [
    "<h3> Splitting test and train data"
   ]
  },
  {
   "cell_type": "code",
   "execution_count": 27,
   "id": "4ba45de2",
   "metadata": {},
   "outputs": [],
   "source": [
    "from sklearn.model_selection import train_test_split\n",
    "X_train, X_test, y_train, y_test = train_test_split(X_final, y_final, test_size=0.33, random_state=42)"
   ]
  },
  {
   "cell_type": "markdown",
   "id": "31ffcc5e",
   "metadata": {},
   "source": [
    "<h3>Model Training</h3>\n",
    "<h4> Setting epoch = 25 and batch-size as 200"
   ]
  },
  {
   "cell_type": "code",
   "execution_count": 28,
   "id": "29903047",
   "metadata": {},
   "outputs": [
    {
     "name": "stdout",
     "output_type": "stream",
     "text": [
      "Epoch 1/25\n",
      "168/168 [==============================] - 45s 262ms/step - loss: 2.6473 - accuracy: 0.6796 - val_loss: 0.4504 - val_accuracy: 0.8171\n",
      "Epoch 2/25\n",
      "168/168 [==============================] - 44s 264ms/step - loss: 2.6071 - accuracy: 0.7333 - val_loss: 0.4301 - val_accuracy: 0.8419\n",
      "Epoch 3/25\n",
      "168/168 [==============================] - 44s 262ms/step - loss: 2.5644 - accuracy: 0.7546 - val_loss: 0.4538 - val_accuracy: 0.8252\n",
      "Epoch 4/25\n",
      "168/168 [==============================] - 46s 271ms/step - loss: 2.5459 - accuracy: 0.7593 - val_loss: 0.5139 - val_accuracy: 0.7690\n",
      "Epoch 5/25\n",
      "168/168 [==============================] - 45s 269ms/step - loss: 2.5306 - accuracy: 0.7681 - val_loss: 0.4564 - val_accuracy: 0.8285\n",
      "Epoch 6/25\n",
      "168/168 [==============================] - 48s 286ms/step - loss: 2.4819 - accuracy: 0.7749 - val_loss: 0.4524 - val_accuracy: 0.8369\n",
      "Epoch 7/25\n",
      "168/168 [==============================] - 47s 282ms/step - loss: 2.5014 - accuracy: 0.7784 - val_loss: 0.4503 - val_accuracy: 0.8391\n",
      "Epoch 8/25\n",
      "168/168 [==============================] - 45s 271ms/step - loss: 2.5375 - accuracy: 0.7773 - val_loss: 0.4441 - val_accuracy: 0.8426\n",
      "Epoch 9/25\n",
      "168/168 [==============================] - 47s 279ms/step - loss: 2.4934 - accuracy: 0.7788 - val_loss: 0.4629 - val_accuracy: 0.8333\n",
      "Epoch 10/25\n",
      "168/168 [==============================] - 46s 277ms/step - loss: 2.4524 - accuracy: 0.7872 - val_loss: 0.4867 - val_accuracy: 0.8287\n",
      "Epoch 11/25\n",
      "168/168 [==============================] - 48s 289ms/step - loss: 2.4951 - accuracy: 0.7891 - val_loss: 0.4365 - val_accuracy: 0.8400\n",
      "Epoch 12/25\n",
      "168/168 [==============================] - 49s 290ms/step - loss: 2.4943 - accuracy: 0.7909 - val_loss: 0.4514 - val_accuracy: 0.8348\n",
      "Epoch 13/25\n",
      "168/168 [==============================] - 47s 279ms/step - loss: 2.4789 - accuracy: 0.7943 - val_loss: 0.4770 - val_accuracy: 0.8327\n",
      "Epoch 14/25\n",
      "168/168 [==============================] - 44s 265ms/step - loss: 2.4408 - accuracy: 0.7990 - val_loss: 0.4439 - val_accuracy: 0.8342\n",
      "Epoch 15/25\n",
      "168/168 [==============================] - 44s 264ms/step - loss: 2.5026 - accuracy: 0.7882 - val_loss: 0.4878 - val_accuracy: 0.8287\n",
      "Epoch 16/25\n",
      "168/168 [==============================] - 44s 264ms/step - loss: 2.4367 - accuracy: 0.7984 - val_loss: 0.4930 - val_accuracy: 0.8208\n",
      "Epoch 17/25\n",
      "168/168 [==============================] - 45s 269ms/step - loss: 2.4390 - accuracy: 0.8018 - val_loss: 0.4497 - val_accuracy: 0.8301\n",
      "Epoch 18/25\n",
      "168/168 [==============================] - 46s 277ms/step - loss: 2.5315 - accuracy: 0.7629 - val_loss: 0.4777 - val_accuracy: 0.7979\n",
      "Epoch 19/25\n",
      "168/168 [==============================] - 45s 267ms/step - loss: 2.4888 - accuracy: 0.7774 - val_loss: 0.4445 - val_accuracy: 0.8292\n",
      "Epoch 20/25\n",
      "168/168 [==============================] - 45s 266ms/step - loss: 2.4230 - accuracy: 0.7953 - val_loss: 0.4766 - val_accuracy: 0.8115\n",
      "Epoch 21/25\n",
      "168/168 [==============================] - 45s 267ms/step - loss: 2.5156 - accuracy: 0.7586 - val_loss: 0.6143 - val_accuracy: 0.7026\n",
      "Epoch 22/25\n",
      "168/168 [==============================] - 45s 265ms/step - loss: 2.6093 - accuracy: 0.7358 - val_loss: 0.4756 - val_accuracy: 0.7919\n",
      "Epoch 23/25\n",
      "168/168 [==============================] - 46s 273ms/step - loss: 2.7268 - accuracy: 0.7045 - val_loss: 0.6904 - val_accuracy: 0.6970\n",
      "Epoch 24/25\n",
      "168/168 [==============================] - 45s 268ms/step - loss: 2.7208 - accuracy: 0.6399 - val_loss: 0.6793 - val_accuracy: 0.5572\n",
      "Epoch 25/25\n",
      "168/168 [==============================] - 46s 272ms/step - loss: 2.6969 - accuracy: 0.6746 - val_loss: 0.6573 - val_accuracy: 0.6094\n"
     ]
    },
    {
     "data": {
      "text/plain": [
       "<tensorflow.python.keras.callbacks.History at 0x2b02df998b0>"
      ]
     },
     "execution_count": 28,
     "metadata": {},
     "output_type": "execute_result"
    }
   ],
   "source": [
    "model.fit(X_train,y_train,validation_data=(X_test,y_test),epochs=25,batch_size=200)"
   ]
  },
  {
   "cell_type": "markdown",
   "id": "142f3011",
   "metadata": {},
   "source": [
    "<h3> Predicting for test data"
   ]
  },
  {
   "cell_type": "code",
   "execution_count": 29,
   "id": "55bf0966",
   "metadata": {},
   "outputs": [
    {
     "name": "stderr",
     "output_type": "stream",
     "text": [
      "c:\\users\\lenovo\\appdata\\local\\programs\\python\\python38\\lib\\site-packages\\tensorflow\\python\\keras\\engine\\sequential.py:455: UserWarning: `model.predict_classes()` is deprecated and will be removed after 2021-01-01. Please use instead:* `np.argmax(model.predict(x), axis=-1)`,   if your model does multi-class classification   (e.g. if it uses a `softmax` last-layer activation).* `(model.predict(x) > 0.5).astype(\"int32\")`,   if your model does binary classification   (e.g. if it uses a `sigmoid` last-layer activation).\n",
      "  warnings.warn('`model.predict_classes()` is deprecated and '\n"
     ]
    }
   ],
   "source": [
    "y_pred=model.predict_classes(X_test)"
   ]
  },
  {
   "cell_type": "markdown",
   "id": "90754a02",
   "metadata": {},
   "source": [
    "<h3> Code   :   Sentiment </h3>\n",
    "<h3> 1      :   Positive  </h3>\n",
    "<h3> 0      :  Negative  </h3>"
   ]
  },
  {
   "cell_type": "code",
   "execution_count": 30,
   "id": "a0505e68",
   "metadata": {},
   "outputs": [
    {
     "data": {
      "text/plain": [
       "array([[0],\n",
       "       [0],\n",
       "       [0],\n",
       "       ...,\n",
       "       [1],\n",
       "       [1],\n",
       "       [0]])"
      ]
     },
     "execution_count": 30,
     "metadata": {},
     "output_type": "execute_result"
    }
   ],
   "source": [
    "y_pred"
   ]
  },
  {
   "cell_type": "markdown",
   "id": "ac49eb16",
   "metadata": {},
   "source": [
    "<h3> Accuracy Score"
   ]
  },
  {
   "cell_type": "code",
   "execution_count": 31,
   "id": "aecda01b",
   "metadata": {},
   "outputs": [
    {
     "data": {
      "text/plain": [
       "0.6093939393939394"
      ]
     },
     "execution_count": 31,
     "metadata": {},
     "output_type": "execute_result"
    }
   ],
   "source": [
    "from sklearn.metrics import accuracy_score\n",
    "accuracy_score(y_test,y_pred)"
   ]
  },
  {
   "cell_type": "markdown",
   "id": "671ce14f",
   "metadata": {},
   "source": [
    "<h2> An accuracy of 83.68% is achieved"
   ]
  },
  {
   "cell_type": "code",
   "execution_count": 32,
   "id": "f7acde2f",
   "metadata": {},
   "outputs": [],
   "source": [
    "import matplotlib.pyplot as plt\n",
    "import seaborn as sns\n",
    "from sklearn import metrics"
   ]
  },
  {
   "cell_type": "markdown",
   "id": "22cb924a",
   "metadata": {},
   "source": [
    "<h2> Confusion Matrix"
   ]
  },
  {
   "cell_type": "code",
   "execution_count": 33,
   "id": "c904bd2b",
   "metadata": {},
   "outputs": [
    {
     "data": {
      "image/png": "[encoded data removed]",
      "text/plain": [
       "<Figure size 216x216 with 1 Axes>"
      ]
     },
     "metadata": {
      "needs_background": "light"
     },
     "output_type": "display_data"
    }
   ],
   "source": [
    "cm = metrics.confusion_matrix(y_test, y_pred)\n",
    "f,ax = plt.subplots(figsize=(3,3))\n",
    "sns.heatmap(cm,annot=True,linewidths=0.5,cbar=False,linecolor=\"red\",fmt='.0f',ax=ax)\n",
    "plt.xlabel(\"y_predict\")\n",
    "plt.ylabel(\"y_true\")\n",
    "ax.set(title=str('LSTM'))\n",
    "plt.show()\n",
    "\n"
   ]
  }
 ],
 "metadata": {
  "kernelspec": {
   "display_name": "Python 3 (ipykernel)",
   "language": "python",
   "name": "python3"
  },
  "language_info": {
   "codemirror_mode": {
    "name": "ipython",
    "version": 3
   },
   "file_extension": ".py",
   "mimetype": "text/x-python",
   "name": "python",
   "nbconvert_exporter": "python",
   "pygments_lexer": "ipython3",
   "version": "3.8.9"
  }
 },
 "nbformat": 4,
 "nbformat_minor": 5
}
