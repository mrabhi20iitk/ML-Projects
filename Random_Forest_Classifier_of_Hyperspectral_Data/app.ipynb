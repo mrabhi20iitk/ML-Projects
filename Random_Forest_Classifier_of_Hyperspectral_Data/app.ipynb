{
 "cells": [
  {
   "cell_type": "code",
   "execution_count": 1,
   "id": "be4f1c77",
   "metadata": {},
   "outputs": [],
   "source": [
    "import tkinter as tk\n",
    "from tkinter import *\n",
    "from tkinter import ttk\n",
    "import pandas as pd\n",
    "import numpy as np\n",
    "from sklearn.model_selection import train_test_split\n",
    "from sklearn.metrics import accuracy_score\n",
    "\n",
    "from sklearn.metrics import accuracy_score,r2_score\n",
    "from sklearn.impute import SimpleImputer\n",
    "from tkinter.filedialog import askopenfilename\n",
    "from matplotlib.figure import Figure\n",
    "import matplotlib.pyplot as plt\n",
    "import seaborn as sn\n",
    "from sklearn.metrics import accuracy_score,confusion_matrix,classification_report"
   ]
  },
  {
   "cell_type": "code",
   "execution_count": 2,
   "id": "c96551f0",
   "metadata": {},
   "outputs": [],
   "source": [
    "from scipy.io import loadmat\n",
    "from tkinter import filedialog\n",
    "from tkinter import messagebox\n",
    "from sklearn.decomposition import PCA\n",
    "from sklearn.ensemble import RandomForestClassifier"
   ]
  },
  {
   "cell_type": "code",
   "execution_count": 3,
   "id": "de83f704",
   "metadata": {},
   "outputs": [
    {
     "data": {
      "text/plain": [
       "''"
      ]
     },
     "execution_count": 3,
     "metadata": {},
     "output_type": "execute_result"
    }
   ],
   "source": [
    "root = Tk()\n",
    "root.title('Random Forest Classifier')\n",
    "root.geometry('1000x600')"
   ]
  },
  {
   "cell_type": "code",
   "execution_count": 4,
   "id": "7e7b4b58",
   "metadata": {},
   "outputs": [],
   "source": [
    "def data():\n",
    "    global x,arr\n",
    "    x = askopenfilename(initialdir=r'C:\\Users\\Lenovo\\Desktop\\MP PROJECT',title = \"Select file\")\n",
    "    x = loadmat(x)\n",
    "    arr = []\n",
    "    for i in x.keys():\n",
    "        arr.append(i)\n",
    "    x = x[arr[-1]]\n",
    "    e1.insert(0, x)\n",
    "    e1.config(text=x)\n",
    "    \n",
    "    return x\n"
   ]
  },
  {
   "cell_type": "code",
   "execution_count": 5,
   "id": "4123d1e0",
   "metadata": {},
   "outputs": [],
   "source": [
    "def ground_truth():\n",
    "    global y1 \n",
    "    y1 = askopenfilename(initialdir=r'C:\\Users\\Lenovo\\Desktop\\MP PROJECT',title = \"Select file\")\n",
    "    y1 = loadmat(y1)\n",
    "    arr1 = []\n",
    "    for i in y1.keys():\n",
    "        arr1.append(i)\n",
    "    y1 = y1[arr1[-1]]\n",
    "    e2.insert(0, y1)\n",
    "    e2.config(text=y1)\n",
    "    return y1"
   ]
  },
  {
   "cell_type": "code",
   "execution_count": 6,
   "id": "372c402f",
   "metadata": {},
   "outputs": [],
   "source": [
    "def load_dataset():\n",
    "    global df\n",
    "#     x = loadmat(x)[arr[-1]]\n",
    "#     y1 = loadmat(y)[arr1[-1]]\n",
    "    Label(root,text=f'shape:{x.shape}', activeforeground=\"white\",activebackground=\"black\").place(x=800,y=95)\n",
    "    Label(root,text=f'shape:{y1.shape}', activeforeground=\"white\",activebackground=\"black\").place(x=800,y=115)\n",
    "    q = x.reshape(-1,x.shape[2])\n",
    "    df = pd.DataFrame(q)\n",
    "    df=pd.concat([df,pd.DataFrame(data=y1.ravel())],axis=1)\n",
    "    df.columns= [f'band{i}' for i in range(1, 1+x.shape[2])]+['class']\n",
    "    Label(root,text=f'shape:{df.shape}', activeforeground=\"white\",activebackground=\"black\").place(x=800,y=135)\n",
    "    return df"
   ]
  },
  {
   "cell_type": "code",
   "execution_count": 7,
   "id": "7e8b6d18",
   "metadata": {},
   "outputs": [],
   "source": [
    "def save_dataset():\n",
    "    global dataset\n",
    "    df.to_csv(f'Dataset for {arr[-1]}.csv')\n",
    "    tk.messagebox.showinfo('information',\"Dataset saved successfully\")\n",
    "    "
   ]
  },
  {
   "cell_type": "code",
   "execution_count": 8,
   "id": "50d7ebe0",
   "metadata": {},
   "outputs": [],
   "source": [
    "def test_size():\n",
    "    global alpha\n",
    "    alpha = float(e3.get())\n",
    "    tk.messagebox.showinfo('information',f\"Test data size chosen as : {alpha}\")\n",
    "    "
   ]
  },
  {
   "cell_type": "code",
   "execution_count": 9,
   "id": "4044685b",
   "metadata": {},
   "outputs": [],
   "source": [
    "def pca_plot():\n",
    "    global arr3\n",
    "    arr3 = []\n",
    "    for i in x.shape:\n",
    "        arr3.append(i)\n",
    "    var1 = arr3[-1]\n",
    "    pca = PCA()\n",
    "    pc = pca.fit_transform(df.iloc[:,:-1].values)\n",
    "    ev=pca.explained_variance_ratio_\n",
    "    plt.figure(figsize=(12, 6))\n",
    "    plt.plot(np.cumsum(ev))\n",
    "    plt.xlabel('Number of components')\n",
    "    plt.ylabel('Cumulative explained variance')\n",
    "    plt.savefig(f'Cumulative variance  for {arr[-1]}.png', dpi=300)\n",
    "    tk.messagebox.showinfo('information',\"Saved\")\n",
    "    "
   ]
  },
  {
   "cell_type": "code",
   "execution_count": 10,
   "id": "5cfbe4d9",
   "metadata": {},
   "outputs": [],
   "source": [
    "def pca_value():\n",
    "    global var2\n",
    "    var2 = int(e4.get())\n",
    "    tk.messagebox.showinfo('information',f\"{var2} principal components are selected\")\n",
    "    "
   ]
  },
  {
   "cell_type": "code",
   "execution_count": 11,
   "id": "d9e6e615",
   "metadata": {},
   "outputs": [],
   "source": [
    "def train_model():\n",
    "    global model , q1 , score ,X_test , y_test\n",
    "#     pca = PCA(n_components=85)\n",
    "#     pc = pca.fit_transform(df.iloc[:,:-1].values)\n",
    "    pca = PCA(n_components = var2)\n",
    "    dt = pca.fit_transform(df.iloc[:, :-1].values)\n",
    "    q1 = pd.concat([pd.DataFrame(data = dt), pd.DataFrame(data = y1.ravel())], axis = 1)\n",
    "    q1.columns = [f'PC-{i}' for i in range(1,var2+1)]+['class']\n",
    "    x1 = q1[q1['class'] != 0]\n",
    "\n",
    "    X = x1.iloc[:, :-1].values\n",
    "    y = x1.loc[:, 'class'].values\n",
    "\n",
    "     \n",
    "    X_train, X_test, y_train, y_test = train_test_split(X, y, test_size=alpha, random_state=11, stratify=y)\n",
    "    model = RandomForestClassifier()\n",
    "    model.fit(X_train,y_train)\n",
    "    tk.messagebox.showinfo('information',\"Model Trained successfully\")"
   ]
  },
  {
   "cell_type": "code",
   "execution_count": 12,
   "id": "3208bd0b",
   "metadata": {},
   "outputs": [],
   "source": [
    "def test_model():\n",
    "    global y_pred\n",
    "    y_pred = model.predict(X_test)\n",
    "    score  = 100*accuracy_score(y_pred,y_test)\n",
    "    Label(root,text=f'Accuracy Score : {score}', activeforeground=\"white\",activebackground=\"black\").place(x=600,y=305)"
   ]
  },
  {
   "cell_type": "code",
   "execution_count": 13,
   "id": "0719f03f",
   "metadata": {},
   "outputs": [],
   "source": [
    "def Conf_Matrix():\n",
    "    global cm,df_cm\n",
    "    cm = confusion_matrix(y_test, y_pred)\n",
    "#     names = ['Alfalfa',\t'Corn-notill', 'Corn-mintill',\t'Corn',\t\t'Grass-pasture','Grass-trees',\n",
    "# 'Grass-pasture-mowed','Hay-windrowed','Oats','Soybean-notill','Soybean-mintill',\n",
    "# 'Soybean-clean', 'Wheat',\t'Woods',\t'Buildings Grass Trees Drives',\t'Stone Steel Towers']\n",
    "#     df_cm = pd.DataFrame(cm, columns=np.unique(names), index = np.unique(names))\n",
    "    df_cm = pd.DataFrame(cm)\n",
    "    df_cm.index.name = 'Actual'\n",
    "    df_cm.columns.name = 'Predicted'\n",
    "    arr2 = []\n",
    "    for i in df_cm.shape:\n",
    "        arr2.append(i)\n",
    "    plt.figure(figsize = (10,8))\n",
    "    sn.set(font_scale=1.4)\n",
    "    sn.heatmap(df_cm, cmap=\"Reds\", annot=True,annot_kws={\"size\": arr2[0]}, fmt='d')\n",
    "    plt.savefig(f'cmap for {arr[-1]}.png', dpi=300)\n",
    "#     df_cm = pd.DataFrame(cm)\n",
    "#     df_cm.index.name = 'Actual'\n",
    "#     df_cm.columns.name = 'Predicted'\n",
    "    df_cm.to_csv(f'Confusion matrix for {arr[-1]}.csv')\n",
    "    tk.messagebox.showinfo('information',\"SUCCESS! Confusion matrix saved as image and CSV file \")"
   ]
  },
  {
   "cell_type": "code",
   "execution_count": 14,
   "id": "a44c84f1",
   "metadata": {},
   "outputs": [],
   "source": [
    "def exit():\n",
    "    root.destroy()"
   ]
  },
  {
   "cell_type": "code",
   "execution_count": 15,
   "id": "6362632e",
   "metadata": {},
   "outputs": [],
   "source": [
    "l1=Label(root, text='Select Data File')\n",
    "l1.grid(row=1, column=0)\n",
    "e1 = Entry(root,text='')\n",
    "e1.grid(row=1, column=2)\n",
    "Button(root,text='Browse files', command=data,activeforeground=\"white\",activebackground=\"black\").grid(row=1, column=3)"
   ]
  },
  {
   "cell_type": "code",
   "execution_count": 16,
   "id": "ab77d489",
   "metadata": {},
   "outputs": [],
   "source": [
    "l2=Label(root, text='Select Ground Truth File')\n",
    "l2.grid(row=2, column=0)\n",
    "e2 = Entry(root,text='')\n",
    "e2.grid(row=2, column=2)\n",
    "Button(root,text='Browse files', command=ground_truth,activeforeground=\"white\",activebackground=\"black\").grid(row=2, column=3)"
   ]
  },
  {
   "cell_type": "code",
   "execution_count": 17,
   "id": "06bea655",
   "metadata": {},
   "outputs": [],
   "source": [
    "l12 = Label(root,text ='Enter test data size (<1)')\n",
    "l12.grid(row=10,column=0)\n",
    "e3 = Entry(root,text='')\n",
    "e3.grid(row=10,column=2)\n",
    "Button(root,text='Confirm', command=test_size,activeforeground=\"white\",activebackground=\"black\").grid(row=10, column=3)"
   ]
  },
  {
   "cell_type": "code",
   "execution_count": 18,
   "id": "7f6b8cba",
   "metadata": {},
   "outputs": [],
   "source": [
    "l13 = Label(root,text ='Enter no of Principal components to be selected')\n",
    "l13.grid(row=8,column=0)\n",
    "e4 = Entry(root,text='')\n",
    "e4.grid(row=8,column=2)\n",
    "Button(root,text='Apply PCA', command=pca_value,activeforeground=\"white\",activebackground=\"black\").grid(row=8, column=3)"
   ]
  },
  {
   "cell_type": "code",
   "execution_count": 19,
   "id": "304a24b3",
   "metadata": {},
   "outputs": [],
   "source": [
    "Button(root,text='Load Dataset', command=load_dataset,activeforeground=\"white\",activebackground=\"black\").place(x=210, y=98)"
   ]
  },
  {
   "cell_type": "code",
   "execution_count": 20,
   "id": "f11e0f0f",
   "metadata": {},
   "outputs": [],
   "source": [
    "Button(root,text='Save Dataset as csv', command=save_dataset,activeforeground=\"white\",activebackground=\"black\").grid(row=4, column=3)"
   ]
  },
  {
   "cell_type": "code",
   "execution_count": 21,
   "id": "f0347a1c",
   "metadata": {},
   "outputs": [],
   "source": [
    "Button(root,text='Train model', command=train_model,activeforeground=\"white\",activebackground=\"black\").grid(row=12, column=2)"
   ]
  },
  {
   "cell_type": "code",
   "execution_count": 22,
   "id": "b773cdce",
   "metadata": {},
   "outputs": [],
   "source": [
    "Button(root,text='Generate confusion matrix', command=Conf_Matrix,activeforeground=\"white\",activebackground=\"black\").grid(row=16, column=2)"
   ]
  },
  {
   "cell_type": "code",
   "execution_count": 23,
   "id": "0dbd11db",
   "metadata": {},
   "outputs": [],
   "source": [
    "Button(root,text='Test model', command=test_model,activeforeground=\"white\",activebackground=\"black\").grid(row=14, column=2)"
   ]
  },
  {
   "cell_type": "code",
   "execution_count": 24,
   "id": "d5fa4a60",
   "metadata": {},
   "outputs": [],
   "source": [
    "Button(root,text='Exit', command=exit,activeforeground=\"white\",activebackground=\"black\").grid(row=18, column=2)"
   ]
  },
  {
   "cell_type": "code",
   "execution_count": 25,
   "id": "3f9111ce",
   "metadata": {},
   "outputs": [],
   "source": [
    "Button(root,text='Generate cumulative variance plot', command=pca_plot,activeforeground=\"white\",activebackground=\"black\").grid(row=6, column=2)"
   ]
  },
  {
   "cell_type": "code",
   "execution_count": 26,
   "id": "b2927f40",
   "metadata": {},
   "outputs": [],
   "source": [
    "l4 = Label(root,text='Random Forest Classifier for Hyperspectral Images',font=('Helvetica', 12, 'bold'))\n",
    "l4.grid(row=0,column = 2)"
   ]
  },
  {
   "cell_type": "code",
   "execution_count": 27,
   "id": "6850e01f",
   "metadata": {},
   "outputs": [],
   "source": [
    "l3 = Label(root,text=' ')\n",
    "l3.grid(row=5,column = 2)"
   ]
  },
  {
   "cell_type": "code",
   "execution_count": 28,
   "id": "60c8224f",
   "metadata": {},
   "outputs": [],
   "source": [
    "l5 = Label(root,text='  ')\n",
    "l5.grid(row=7,column = 2)"
   ]
  },
  {
   "cell_type": "code",
   "execution_count": 29,
   "id": "59bc5bd3",
   "metadata": {},
   "outputs": [],
   "source": [
    "l7 = Label(root,text='  ')\n",
    "l7.grid(row=3,column = 2)"
   ]
  },
  {
   "cell_type": "code",
   "execution_count": 30,
   "id": "8968a7e0",
   "metadata": {},
   "outputs": [],
   "source": [
    "l9 = Label(root,text='  ')\n",
    "l9.grid(row=9,column = 2)"
   ]
  },
  {
   "cell_type": "code",
   "execution_count": 31,
   "id": "d96fa461",
   "metadata": {},
   "outputs": [],
   "source": [
    "l8 = Label(root,text='  ')\n",
    "l8.grid(row=13,column = 2)"
   ]
  },
  {
   "cell_type": "code",
   "execution_count": 32,
   "id": "e93c4840",
   "metadata": {},
   "outputs": [],
   "source": [
    "l11 = Label(root,text='  ')\n",
    "l11.grid(row=11,column = 2)"
   ]
  },
  {
   "cell_type": "code",
   "execution_count": 33,
   "id": "78efeb68",
   "metadata": {},
   "outputs": [],
   "source": [
    "l10 = Label(root,text='Made by Abhishek Yadav [20103008] for CE-672A ',fg=\"red\")\n",
    "l10.grid(row=20,column = 2)"
   ]
  },
  {
   "cell_type": "code",
   "execution_count": 34,
   "id": "0e4a4426",
   "metadata": {},
   "outputs": [
    {
     "data": {
      "image/png": "[encoded data removed]",
      "text/plain": [
       "<Figure size 864x432 with 1 Axes>"
      ]
     },
     "metadata": {
      "needs_background": "light"
     },
     "output_type": "display_data"
    },
    {
     "data": {
      "image/png": "[encoded data removed]",
      "text/plain": [
       "<Figure size 720x576 with 2 Axes>"
      ]
     },
     "metadata": {
      "needs_background": "light"
     },
     "output_type": "display_data"
    }
   ],
   "source": [
    "root.mainloop()"
   ]
  }
 ],
 "metadata": {
  "kernelspec": {
   "display_name": "Python 3 (ipykernel)",
   "language": "python",
   "name": "python3"
  },
  "language_info": {
   "codemirror_mode": {
    "name": "ipython",
    "version": 3
   },
   "file_extension": ".py",
   "mimetype": "text/x-python",
   "name": "python",
   "nbconvert_exporter": "python",
   "pygments_lexer": "ipython3",
   "version": "3.8.9"
  }
 },
 "nbformat": 4,
 "nbformat_minor": 5
}
